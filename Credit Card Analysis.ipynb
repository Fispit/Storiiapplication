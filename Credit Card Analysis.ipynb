{
 "cells": [
  {
   "cell_type": "code",
   "execution_count": 1,
   "metadata": {},
   "outputs": [],
   "source": []
  },
  {
   "cell_type": "markdown",
   "metadata": {},
   "source": []
  },
  {
   "cell_type": "code",
   "execution_count": null,
   "metadata": {},
   "outputs": [],
   "source": [
    "import pandas as pd\n",
    "import matplotlib.pyplot as plt\n",
    "import datetime as dt"
   ]
  },
  {
   "cell_type": "code",
   "execution_count": 2,
   "metadata": {},
   "outputs": [
    {
     "data": {
      "text/plain": [
       "array([[<matplotlib.axes._subplots.AxesSubplot object at 0x0000023AFD514B70>]],\n",
       "      dtype=object)"
      ]
     },
     "execution_count": 2,
     "metadata": {},
     "output_type": "execute_result"
    },
    {
     "data": {
      "image/png": "[encoded data removed]",
      "text/plain": [
       "<Figure size 1800x1080 with 1 Axes>"
      ]
     },
     "metadata": {
      "needs_background": "light"
     },
     "output_type": "display_data"
    }
   ],
   "source": [
    "imported_data=pd.read_csv(\"Stori_Data_Challenge_2021._(1).csv\")\n",
    "imported_data.activated_date=pd.to_datetime(imported_data.activated_date, format='%Y-%m-%d')\n",
    "imported_data[\"activated_date_YM\"]=imported_data[\"activated_date\"].dt.to_period('M')\n",
    "imported_data.last_payment_date=pd.to_datetime(imported_data.last_payment_date, format='%Y-%m-%d')\n",
    "imported_data[\"last_payment_date_YM\"]=imported_data[\"last_payment_date\"].dt.to_period('M')\n",
    "imported_data.hist(column=\"balance\",bins=10,figsize=(25,15))"
   ]
  },
  {
   "cell_type": "code",
   "execution_count": null,
   "metadata": {},
   "outputs": [],
   "source": []
  },
  {
   "cell_type": "code",
   "execution_count": 3,
   "metadata": {},
   "outputs": [
    {
     "data": {
      "text/html": [
       "<div>\n",
       "<style scoped>\n",
       "    .dataframe tbody tr th:only-of-type {\n",
       "        vertical-align: middle;\n",
       "    }\n",
       "\n",
       "    .dataframe tbody tr th {\n",
       "        vertical-align: top;\n",
       "    }\n",
       "\n",
       "    .dataframe thead th {\n",
       "        text-align: right;\n",
       "    }\n",
       "</style>\n",
       "<table border=\"1\" class=\"dataframe\">\n",
       "  <thead>\n",
       "    <tr style=\"text-align: right;\">\n",
       "      <th></th>\n",
       "      <th>mean</th>\n",
       "      <th>median</th>\n",
       "    </tr>\n",
       "    <tr>\n",
       "      <th>activated_date_YM</th>\n",
       "      <th></th>\n",
       "      <th></th>\n",
       "    </tr>\n",
       "  </thead>\n",
       "  <tbody>\n",
       "    <tr>\n",
       "      <th>2019-10</th>\n",
       "      <td>2482.234166</td>\n",
       "      <td>1524.409377</td>\n",
       "    </tr>\n",
       "    <tr>\n",
       "      <th>2019-11</th>\n",
       "      <td>1848.704323</td>\n",
       "      <td>1082.071173</td>\n",
       "    </tr>\n",
       "    <tr>\n",
       "      <th>2019-12</th>\n",
       "      <td>2018.788906</td>\n",
       "      <td>1162.588384</td>\n",
       "    </tr>\n",
       "    <tr>\n",
       "      <th>2020-01</th>\n",
       "      <td>1854.535889</td>\n",
       "      <td>1175.749847</td>\n",
       "    </tr>\n",
       "    <tr>\n",
       "      <th>2020-02</th>\n",
       "      <td>1747.350977</td>\n",
       "      <td>994.841733</td>\n",
       "    </tr>\n",
       "    <tr>\n",
       "      <th>2020-03</th>\n",
       "      <td>1554.973023</td>\n",
       "      <td>828.954823</td>\n",
       "    </tr>\n",
       "    <tr>\n",
       "      <th>2020-04</th>\n",
       "      <td>1483.183191</td>\n",
       "      <td>910.141912</td>\n",
       "    </tr>\n",
       "    <tr>\n",
       "      <th>2020-05</th>\n",
       "      <td>1214.333732</td>\n",
       "      <td>734.557681</td>\n",
       "    </tr>\n",
       "    <tr>\n",
       "      <th>2020-06</th>\n",
       "      <td>939.997996</td>\n",
       "      <td>472.791862</td>\n",
       "    </tr>\n",
       "    <tr>\n",
       "      <th>2020-07</th>\n",
       "      <td>649.717622</td>\n",
       "      <td>221.291290</td>\n",
       "    </tr>\n",
       "  </tbody>\n",
       "</table>\n",
       "</div>"
      ],
      "text/plain": [
       "                          mean       median\n",
       "activated_date_YM                          \n",
       "2019-10            2482.234166  1524.409377\n",
       "2019-11            1848.704323  1082.071173\n",
       "2019-12            2018.788906  1162.588384\n",
       "2020-01            1854.535889  1175.749847\n",
       "2020-02            1747.350977   994.841733\n",
       "2020-03            1554.973023   828.954823\n",
       "2020-04            1483.183191   910.141912\n",
       "2020-05            1214.333732   734.557681\n",
       "2020-06             939.997996   472.791862\n",
       "2020-07             649.717622   221.291290"
      ]
     },
     "execution_count": 3,
     "metadata": {},
     "output_type": "execute_result"
    }
   ],
   "source": [
    "data_summary=imported_data[[\"activated_date_YM\",\"balance\"]]\n",
    "data_summary=data_summary.set_index(\"activated_date_YM\")\n",
    "median=data_summary.groupby(\"activated_date_YM\").median()[\"balance\"]\n",
    "result_table=data_summary.groupby(\"activated_date_YM\").mean()\n",
    "result_table=result_table.rename(columns={\"balance\":\"mean\"})\n",
    "result_table[\"median\"]=median\n",
    "result_table"
   ]
  },
  {
   "cell_type": "code",
   "execution_count": null,
   "metadata": {},
   "outputs": [],
   "source": []
  },
  {
   "cell_type": "code",
   "execution_count": 4,
   "metadata": {},
   "outputs": [],
   "source": [
    "mindate=pd.to_datetime({\"year\":[2020],\"month\":[1],\"day\":[1]})\n",
    "summary_2020=imported_data.loc[imported_data[\"activated_date\"]>=mindate[0]]\n",
    "summary_2020=summary_2020.loc[summary_2020[\"last_payment_date\"]>=mindate[0]]"
   ]
  },
  {
   "cell_type": "code",
   "execution_count": null,
   "metadata": {},
   "outputs": [],
   "source": []
  },
  {
   "cell_type": "code",
   "execution_count": 5,
   "metadata": {},
   "outputs": [
    {
     "data": {
      "text/html": [
       "<div>\n",
       "<style scoped>\n",
       "    .dataframe tbody tr th:only-of-type {\n",
       "        vertical-align: middle;\n",
       "    }\n",
       "\n",
       "    .dataframe tbody tr th {\n",
       "        vertical-align: top;\n",
       "    }\n",
       "\n",
       "    .dataframe thead th {\n",
       "        text-align: right;\n",
       "    }\n",
       "</style>\n",
       "<table border=\"1\" class=\"dataframe\">\n",
       "  <thead>\n",
       "    <tr style=\"text-align: right;\">\n",
       "      <th></th>\n",
       "      <th>cust_id</th>\n",
       "      <th>activated_date_YM</th>\n",
       "      <th>last_payment_date</th>\n",
       "      <th>cash_advance</th>\n",
       "      <th>credit_limit</th>\n",
       "      <th>credit_limit_pct</th>\n",
       "    </tr>\n",
       "  </thead>\n",
       "  <tbody>\n",
       "    <tr>\n",
       "      <th>2633</th>\n",
       "      <td>C12709</td>\n",
       "      <td>2020-01</td>\n",
       "      <td>2020-05-08</td>\n",
       "      <td>2431.292076</td>\n",
       "      <td>8000.0</td>\n",
       "      <td>30.391151</td>\n",
       "    </tr>\n",
       "    <tr>\n",
       "      <th>2634</th>\n",
       "      <td>C12710</td>\n",
       "      <td>2020-01</td>\n",
       "      <td>2020-05-26</td>\n",
       "      <td>0.000000</td>\n",
       "      <td>2000.0</td>\n",
       "      <td>0.000000</td>\n",
       "    </tr>\n",
       "    <tr>\n",
       "      <th>2635</th>\n",
       "      <td>C12712</td>\n",
       "      <td>2020-01</td>\n",
       "      <td>2020-10-20</td>\n",
       "      <td>0.000000</td>\n",
       "      <td>3000.0</td>\n",
       "      <td>0.000000</td>\n",
       "    </tr>\n",
       "    <tr>\n",
       "      <th>2636</th>\n",
       "      <td>C12713</td>\n",
       "      <td>2020-01</td>\n",
       "      <td>2020-08-22</td>\n",
       "      <td>0.000000</td>\n",
       "      <td>9000.0</td>\n",
       "      <td>0.000000</td>\n",
       "    </tr>\n",
       "    <tr>\n",
       "      <th>2637</th>\n",
       "      <td>C12714</td>\n",
       "      <td>2020-01</td>\n",
       "      <td>2020-04-26</td>\n",
       "      <td>78.763096</td>\n",
       "      <td>1500.0</td>\n",
       "      <td>5.250873</td>\n",
       "    </tr>\n",
       "    <tr>\n",
       "      <th>...</th>\n",
       "      <td>...</td>\n",
       "      <td>...</td>\n",
       "      <td>...</td>\n",
       "      <td>...</td>\n",
       "      <td>...</td>\n",
       "      <td>...</td>\n",
       "    </tr>\n",
       "    <tr>\n",
       "      <th>8945</th>\n",
       "      <td>C19186</td>\n",
       "      <td>2020-07</td>\n",
       "      <td>2020-11-03</td>\n",
       "      <td>0.000000</td>\n",
       "      <td>1000.0</td>\n",
       "      <td>0.000000</td>\n",
       "    </tr>\n",
       "    <tr>\n",
       "      <th>8946</th>\n",
       "      <td>C19187</td>\n",
       "      <td>2020-07</td>\n",
       "      <td>2020-09-06</td>\n",
       "      <td>0.000000</td>\n",
       "      <td>1000.0</td>\n",
       "      <td>0.000000</td>\n",
       "    </tr>\n",
       "    <tr>\n",
       "      <th>8947</th>\n",
       "      <td>C19188</td>\n",
       "      <td>2020-07</td>\n",
       "      <td>2020-06-03</td>\n",
       "      <td>0.000000</td>\n",
       "      <td>1000.0</td>\n",
       "      <td>0.000000</td>\n",
       "    </tr>\n",
       "    <tr>\n",
       "      <th>8948</th>\n",
       "      <td>C19189</td>\n",
       "      <td>2020-07</td>\n",
       "      <td>2020-07-19</td>\n",
       "      <td>36.558778</td>\n",
       "      <td>500.0</td>\n",
       "      <td>7.311756</td>\n",
       "    </tr>\n",
       "    <tr>\n",
       "      <th>8949</th>\n",
       "      <td>C19190</td>\n",
       "      <td>2020-07</td>\n",
       "      <td>2020-10-14</td>\n",
       "      <td>127.040008</td>\n",
       "      <td>1200.0</td>\n",
       "      <td>10.586667</td>\n",
       "    </tr>\n",
       "  </tbody>\n",
       "</table>\n",
       "<p>6300 rows × 6 columns</p>\n",
       "</div>"
      ],
      "text/plain": [
       "     cust_id activated_date_YM last_payment_date  cash_advance  credit_limit  \\\n",
       "2633  C12709           2020-01        2020-05-08   2431.292076        8000.0   \n",
       "2634  C12710           2020-01        2020-05-26      0.000000        2000.0   \n",
       "2635  C12712           2020-01        2020-10-20      0.000000        3000.0   \n",
       "2636  C12713           2020-01        2020-08-22      0.000000        9000.0   \n",
       "2637  C12714           2020-01        2020-04-26     78.763096        1500.0   \n",
       "...      ...               ...               ...           ...           ...   \n",
       "8945  C19186           2020-07        2020-11-03      0.000000        1000.0   \n",
       "8946  C19187           2020-07        2020-09-06      0.000000        1000.0   \n",
       "8947  C19188           2020-07        2020-06-03      0.000000        1000.0   \n",
       "8948  C19189           2020-07        2020-07-19     36.558778         500.0   \n",
       "8949  C19190           2020-07        2020-10-14    127.040008        1200.0   \n",
       "\n",
       "      credit_limit_pct  \n",
       "2633         30.391151  \n",
       "2634          0.000000  \n",
       "2635          0.000000  \n",
       "2636          0.000000  \n",
       "2637          5.250873  \n",
       "...                ...  \n",
       "8945          0.000000  \n",
       "8946          0.000000  \n",
       "8947          0.000000  \n",
       "8948          7.311756  \n",
       "8949         10.586667  \n",
       "\n",
       "[6300 rows x 6 columns]"
      ]
     },
     "execution_count": 5,
     "metadata": {},
     "output_type": "execute_result"
    }
   ],
   "source": [
    "summary_2020=summary_2020[[\"cust_id\",\"activated_date_YM\",\"last_payment_date\",\"cash_advance\",\"credit_limit\"]]\n",
    "summary_2020[\"credit_limit_pct\"]=summary_2020.cash_advance/summary_2020.credit_limit*100\n",
    "summary_2020"
   ]
  },
  {
   "cell_type": "code",
   "execution_count": 6,
   "metadata": {},
   "outputs": [],
   "source": [
    "summary_2020[\"cust_id\"]=summary_2020[\"cust_id\"].str.slice_replace(start=None, stop=1, repl='')"
   ]
  },
  {
   "cell_type": "code",
   "execution_count": 7,
   "metadata": {},
   "outputs": [
    {
     "data": {
      "text/html": [
       "<div>\n",
       "<style scoped>\n",
       "    .dataframe tbody tr th:only-of-type {\n",
       "        vertical-align: middle;\n",
       "    }\n",
       "\n",
       "    .dataframe tbody tr th {\n",
       "        vertical-align: top;\n",
       "    }\n",
       "\n",
       "    .dataframe thead th {\n",
       "        text-align: right;\n",
       "    }\n",
       "</style>\n",
       "<table border=\"1\" class=\"dataframe\">\n",
       "  <thead>\n",
       "    <tr style=\"text-align: right;\">\n",
       "      <th></th>\n",
       "      <th>cust_id</th>\n",
       "      <th>activated_date_YM</th>\n",
       "      <th>last_payment_date</th>\n",
       "      <th>cash_advance</th>\n",
       "      <th>credit_limit</th>\n",
       "      <th>credit_limit_pct</th>\n",
       "    </tr>\n",
       "  </thead>\n",
       "  <tbody>\n",
       "    <tr>\n",
       "      <th>2633</th>\n",
       "      <td>12709</td>\n",
       "      <td>2020-01</td>\n",
       "      <td>2020-05-08</td>\n",
       "      <td>2431.292076</td>\n",
       "      <td>8000.0</td>\n",
       "      <td>30.391151</td>\n",
       "    </tr>\n",
       "    <tr>\n",
       "      <th>2634</th>\n",
       "      <td>12710</td>\n",
       "      <td>2020-01</td>\n",
       "      <td>2020-05-26</td>\n",
       "      <td>0.000000</td>\n",
       "      <td>2000.0</td>\n",
       "      <td>0.000000</td>\n",
       "    </tr>\n",
       "    <tr>\n",
       "      <th>2635</th>\n",
       "      <td>12712</td>\n",
       "      <td>2020-01</td>\n",
       "      <td>2020-10-20</td>\n",
       "      <td>0.000000</td>\n",
       "      <td>3000.0</td>\n",
       "      <td>0.000000</td>\n",
       "    </tr>\n",
       "    <tr>\n",
       "      <th>2636</th>\n",
       "      <td>12713</td>\n",
       "      <td>2020-01</td>\n",
       "      <td>2020-08-22</td>\n",
       "      <td>0.000000</td>\n",
       "      <td>9000.0</td>\n",
       "      <td>0.000000</td>\n",
       "    </tr>\n",
       "    <tr>\n",
       "      <th>2637</th>\n",
       "      <td>12714</td>\n",
       "      <td>2020-01</td>\n",
       "      <td>2020-04-26</td>\n",
       "      <td>78.763096</td>\n",
       "      <td>1500.0</td>\n",
       "      <td>5.250873</td>\n",
       "    </tr>\n",
       "    <tr>\n",
       "      <th>...</th>\n",
       "      <td>...</td>\n",
       "      <td>...</td>\n",
       "      <td>...</td>\n",
       "      <td>...</td>\n",
       "      <td>...</td>\n",
       "      <td>...</td>\n",
       "    </tr>\n",
       "    <tr>\n",
       "      <th>8945</th>\n",
       "      <td>19186</td>\n",
       "      <td>2020-07</td>\n",
       "      <td>2020-11-03</td>\n",
       "      <td>0.000000</td>\n",
       "      <td>1000.0</td>\n",
       "      <td>0.000000</td>\n",
       "    </tr>\n",
       "    <tr>\n",
       "      <th>8946</th>\n",
       "      <td>19187</td>\n",
       "      <td>2020-07</td>\n",
       "      <td>2020-09-06</td>\n",
       "      <td>0.000000</td>\n",
       "      <td>1000.0</td>\n",
       "      <td>0.000000</td>\n",
       "    </tr>\n",
       "    <tr>\n",
       "      <th>8947</th>\n",
       "      <td>19188</td>\n",
       "      <td>2020-07</td>\n",
       "      <td>2020-06-03</td>\n",
       "      <td>0.000000</td>\n",
       "      <td>1000.0</td>\n",
       "      <td>0.000000</td>\n",
       "    </tr>\n",
       "    <tr>\n",
       "      <th>8948</th>\n",
       "      <td>19189</td>\n",
       "      <td>2020-07</td>\n",
       "      <td>2020-07-19</td>\n",
       "      <td>36.558778</td>\n",
       "      <td>500.0</td>\n",
       "      <td>7.311756</td>\n",
       "    </tr>\n",
       "    <tr>\n",
       "      <th>8949</th>\n",
       "      <td>19190</td>\n",
       "      <td>2020-07</td>\n",
       "      <td>2020-10-14</td>\n",
       "      <td>127.040008</td>\n",
       "      <td>1200.0</td>\n",
       "      <td>10.586667</td>\n",
       "    </tr>\n",
       "  </tbody>\n",
       "</table>\n",
       "<p>6300 rows × 6 columns</p>\n",
       "</div>"
      ],
      "text/plain": [
       "     cust_id activated_date_YM last_payment_date  cash_advance  credit_limit  \\\n",
       "2633   12709           2020-01        2020-05-08   2431.292076        8000.0   \n",
       "2634   12710           2020-01        2020-05-26      0.000000        2000.0   \n",
       "2635   12712           2020-01        2020-10-20      0.000000        3000.0   \n",
       "2636   12713           2020-01        2020-08-22      0.000000        9000.0   \n",
       "2637   12714           2020-01        2020-04-26     78.763096        1500.0   \n",
       "...      ...               ...               ...           ...           ...   \n",
       "8945   19186           2020-07        2020-11-03      0.000000        1000.0   \n",
       "8946   19187           2020-07        2020-09-06      0.000000        1000.0   \n",
       "8947   19188           2020-07        2020-06-03      0.000000        1000.0   \n",
       "8948   19189           2020-07        2020-07-19     36.558778         500.0   \n",
       "8949   19190           2020-07        2020-10-14    127.040008        1200.0   \n",
       "\n",
       "      credit_limit_pct  \n",
       "2633         30.391151  \n",
       "2634          0.000000  \n",
       "2635          0.000000  \n",
       "2636          0.000000  \n",
       "2637          5.250873  \n",
       "...                ...  \n",
       "8945          0.000000  \n",
       "8946          0.000000  \n",
       "8947          0.000000  \n",
       "8948          7.311756  \n",
       "8949         10.586667  \n",
       "\n",
       "[6300 rows x 6 columns]"
      ]
     },
     "execution_count": 7,
     "metadata": {},
     "output_type": "execute_result"
    }
   ],
   "source": [
    "summary_2020"
   ]
  },
  {
   "cell_type": "code",
   "execution_count": 8,
   "metadata": {},
   "outputs": [],
   "source": [
    "imported_data=imported_data.drop(\"Unnamed: 0\",axis=1)\n",
    "imported_data=imported_data.dropna()"
   ]
  },
  {
   "cell_type": "code",
   "execution_count": 9,
   "metadata": {},
   "outputs": [],
   "source": [
    "#import libraries for model\n",
    "from sklearn.model_selection import train_test_split\n",
    "from sklearn.preprocessing import MinMaxScaler\n",
    "from sklearn.metrics import classification_report"
   ]
  },
  {
   "cell_type": "code",
   "execution_count": 10,
   "metadata": {},
   "outputs": [
    {
     "data": {
      "image/png": "[encoded data removed]",
      "text/plain": [
       "<Figure size 1368x1080 with 2 Axes>"
      ]
     },
     "metadata": {
      "needs_background": "light"
     },
     "output_type": "display_data"
    }
   ],
   "source": [
    "f = plt.figure(figsize=(19, 15))\n",
    "plt.matshow(imported_data.corr().abs(), fignum=f.number)\n",
    "plt.xticks(range(imported_data.select_dtypes(['number']).shape[1]), imported_data.select_dtypes(['number']).columns, fontsize=14, rotation=90)\n",
    "plt.yticks(range(imported_data.select_dtypes(['number']).shape[1]), imported_data.select_dtypes(['number']).columns, fontsize=14)\n",
    "cb = plt.colorbar()\n",
    "cb.ax.tick_params(labelsize=13)\n"
   ]
  },
  {
   "cell_type": "code",
   "execution_count": 25,
   "metadata": {},
   "outputs": [],
   "source": [
    "\n",
    "#select features from dataset, chosen from 'important' variables that are not linearly related with each other.\n",
    "features=[ \"oneoff_purchases_frequency\", \"purchases_installments_frequency\",  \"cash_advance\"]\n",
    "data=imported_data[features]\n",
    "data_binary_encoded = pd.get_dummies(data)\n",
    "X=data_binary_encoded\n",
    "y=imported_data['fraud']\n",
    "#\"purchases\","
   ]
  },
  {
   "cell_type": "code",
   "execution_count": 26,
   "metadata": {},
   "outputs": [],
   "source": [
    "#scaling the data for the model\n",
    "X_train, X_test, y_train, y_test = train_test_split(X, y, random_state=1)\n",
    "X_scaler = MinMaxScaler().fit(X_train)\n",
    "X_train_scaled = X_scaler.transform(X_train)\n",
    "X_test_scaled = X_scaler.transform(X_test)"
   ]
  },
  {
   "cell_type": "code",
   "execution_count": 27,
   "metadata": {},
   "outputs": [],
   "source": [
    "#importing model libraries\n",
    "from sklearn.metrics import classification_report\n",
    "from sklearn.neighbors import KNeighborsClassifier"
   ]
  },
  {
   "cell_type": "code",
   "execution_count": 28,
   "metadata": {},
   "outputs": [
    {
     "name": "stdout",
     "output_type": "stream",
     "text": [
      "Training score: 0.9921531701192718\n",
      "Test score: 0.9943529411764706\n"
     ]
    }
   ],
   "source": [
    "model = KNeighborsClassifier()\n",
    "model = model.fit(X_train_scaled, y_train)\n",
    "print(f\"Training score: {model.score(X_train_scaled,y_train)}\")\n",
    "print(f\"Test score: {model.score(X_test_scaled,y_test)}\")"
   ]
  },
  {
   "cell_type": "code",
   "execution_count": 29,
   "metadata": {},
   "outputs": [
    {
     "data": {
      "text/plain": [
       "0.9943529411764706"
      ]
     },
     "execution_count": 29,
     "metadata": {},
     "output_type": "execute_result"
    }
   ],
   "source": [
    "#model.accuracy(model.score(X_test_scaled,y_test))\n",
    "model.score(X_test_scaled,y_test)"
   ]
  },
  {
   "cell_type": "code",
   "execution_count": 30,
   "metadata": {},
   "outputs": [
    {
     "name": "stdout",
     "output_type": "stream",
     "text": [
      "[1]\n"
     ]
    }
   ],
   "source": [
    "#testing an individual value for the model of a known confirmed fraud, C10074\n",
    "print(model.predict([[ 0.5, 0.583333,  27296.48576]]))\n",
    "#gets a 1 on a fraudulent individual test, it works.419.1,"
   ]
  },
  {
   "cell_type": "code",
   "execution_count": null,
   "metadata": {},
   "outputs": [],
   "source": []
  }
 ],
 "metadata": {
  "interpreter": {
   "hash": "2b78a3b288917b3d493cb07f177350e8a28da4a2dca0627be703fc4105193bf3"
  },
  "kernelspec": {
   "display_name": "Python [conda env:PythonData]",
   "language": "python",
   "name": "python3"
  },
  "language_info": {
   "codemirror_mode": {
    "name": "ipython",
    "version": 3
   },
   "file_extension": ".py",
   "mimetype": "text/x-python",
   "name": "python",
   "nbconvert_exporter": "python",
   "pygments_lexer": "ipython3",
   "version": "3.6.10"
  }
 },
 "nbformat": 4,
 "nbformat_minor": 4
}
